{
 "cells": [
  {
   "cell_type": "code",
   "execution_count": 1,
   "metadata": {},
   "outputs": [],
   "source": [
    "import gym"
   ]
  },
  {
   "cell_type": "code",
   "execution_count": 2,
   "metadata": {},
   "outputs": [],
   "source": [
    "import gym_foster"
   ]
  },
  {
   "cell_type": "code",
   "execution_count": 98,
   "metadata": {},
   "outputs": [],
   "source": [
    "import itertools\n",
    "import numpy as np\n",
    "import matplotlib.pyplot as plt\n",
    "import tqdm as tqdm\n",
    "import random"
   ]
  },
  {
   "cell_type": "code",
   "execution_count": 4,
   "metadata": {},
   "outputs": [],
   "source": [
    "env = gym.make('foster-v0')"
   ]
  },
  {
   "cell_type": "code",
   "execution_count": 5,
   "metadata": {},
   "outputs": [
    {
     "name": "stdout",
     "output_type": "stream",
     "text": [
      "The status of the youth is: in\n",
      "The age of the youth is: 12\n",
      "The race of the youth is: major\n",
      "The casegoal of the youth is: Empty\n",
      "Current reward is: 0\n"
     ]
    }
   ],
   "source": [
    "env.render()"
   ]
  },
  {
   "cell_type": "code",
   "execution_count": 6,
   "metadata": {},
   "outputs": [
    {
     "data": {
      "text/plain": [
       "['LTFC', 13, 'major', 0.1, 'in']"
      ]
     },
     "execution_count": 6,
     "metadata": {},
     "output_type": "execute_result"
    }
   ],
   "source": [
    "env.step('a_LTFC')"
   ]
  },
  {
   "cell_type": "code",
   "execution_count": 7,
   "metadata": {},
   "outputs": [
    {
     "name": "stdout",
     "output_type": "stream",
     "text": [
      "The status of the youth is: in\n",
      "The age of the youth is: 13\n",
      "The race of the youth is: major\n",
      "The casegoal of the youth is: LTFC\n",
      "Current reward is: 0\n"
     ]
    }
   ],
   "source": [
    "env.render()"
   ]
  },
  {
   "cell_type": "code",
   "execution_count": 8,
   "metadata": {},
   "outputs": [
    {
     "data": {
      "text/plain": [
       "['R', 14, 'major', 0, 'in']"
      ]
     },
     "execution_count": 8,
     "metadata": {},
     "output_type": "execute_result"
    }
   ],
   "source": [
    "env.step('a_R')"
   ]
  },
  {
   "cell_type": "code",
   "execution_count": 9,
   "metadata": {},
   "outputs": [
    {
     "name": "stdout",
     "output_type": "stream",
     "text": [
      "The status of the youth is: in\n",
      "The age of the youth is: 14\n",
      "The race of the youth is: major\n",
      "The casegoal of the youth is: R\n",
      "Current reward is: 0\n"
     ]
    }
   ],
   "source": [
    "env.render()"
   ]
  },
  {
   "cell_type": "code",
   "execution_count": 10,
   "metadata": {},
   "outputs": [
    {
     "data": {
      "text/plain": [
       "['R', 15, 'major', 0, 'in']"
      ]
     },
     "execution_count": 10,
     "metadata": {},
     "output_type": "execute_result"
    }
   ],
   "source": [
    "env.step('a_R')"
   ]
  },
  {
   "cell_type": "code",
   "execution_count": 11,
   "metadata": {},
   "outputs": [
    {
     "data": {
      "text/plain": [
       "['R', 16, 'major', 1, 'out']"
      ]
     },
     "execution_count": 11,
     "metadata": {},
     "output_type": "execute_result"
    }
   ],
   "source": [
    "env.step('a_R')"
   ]
  },
  {
   "cell_type": "code",
   "execution_count": 139,
   "metadata": {},
   "outputs": [],
   "source": [
    "env.reset()"
   ]
  },
  {
   "cell_type": "code",
   "execution_count": 124,
   "metadata": {},
   "outputs": [],
   "source": [
    "def sample_trajectory(env,policy):\n",
    "    ## policy is epsilon greey policy\n",
    "    race = env.race\n",
    "    age = env.age\n",
    "    status = env.status\n",
    "    epsion = 0.1 # probability to sample a random action\n",
    "    trajectory = []\n",
    "    while status == 'in':\n",
    "        if np.random.binomial(1,epsion,1)[0] == 1:\n",
    "            action = ['a_LTFC','a_R'][np.random.binomial(1,0.5,1)[0]]\n",
    "        else:\n",
    "            action = policy[(race,age)]\n",
    "        next_ = env.step(action)\n",
    "        reward = next_[3]\n",
    "        trajectory.append(((race,age),action, reward))\n",
    "        status = next_[4]\n",
    "        age = next_[1]\n",
    "    env.reset()\n",
    "    return trajectory"
   ]
  },
  {
   "cell_type": "code",
   "execution_count": 218,
   "metadata": {},
   "outputs": [],
   "source": [
    "'''\n",
    "First version of model where reuntificaiton rates are constant. Rate_major = 0.5, rate_minor = 0.3, since the state is \n",
    "finate and generating samples are easilier than obtaining the distrbution in explicit form, monte carlo methods are\n",
    "suitable for solving this problem. However, as the state becomes more and more \n",
    "complex, advancend methods need to be used to solve this problem. \n",
    "'''\n",
    "\n",
    "## Sample a test group. \n",
    "\n",
    "\n",
    "\n",
    "\n",
    "## On-policy first-visit MC control  Check Sutton et al. page 99 for details. \n",
    "action_ = ['a_LTFC','a_R']\n",
    "state_ = list(itertools.product(['major','minor'],[3,4,5,6,7,8,9,10,11,12,13,14,15,16,17,18]))\n",
    "np.random.seed(1)\n",
    "p = np.random.uniform(0,1,len(state_))\n",
    "policy = dict(zip(state_,[random.sample(action_,1)[0] for i in range(len(state_))])) # sample a start policy. Is the probability to choose a_R\n",
    "# theta_ = 0.1\n",
    "gamma_ = 0.9 # discount factor\n",
    "q_value_ = dict(zip(list(itertools.product(state_,action_)), np.random.uniform(0,1,len(state_ ) * 2 )))\n",
    "# returns = dict(zip(list(itertools.product(state_,action_)),([] for _ in range(len(state_) * 2) ) ))\n",
    "returns = dict(zip(list(itertools.product(state_,action_)), [0]* len(q_value_) ))\n",
    "returns_count = dict(zip(list(itertools.product(state_,action_)), [0]* len(q_value_) ))\n",
    "n = 0\n",
    "history = []\n",
    "\n",
    "while n< 100000: ## iterate 2000 times. \n",
    "    n += 1 \n",
    "    trajectory = sample_trajectory(env,policy)\n",
    "    G = 0\n",
    "    trajectory.reverse()\n",
    "    pair = set([(s,a) for s,a,r in trajectory])\n",
    "#     returns = dict(zip(list(itertools.product(state_,['a_LTFC','a_R'])),([] for _ in range(len(state_) * 2) ) ))\n",
    "    for index,(s,a,r) in enumerate(trajectory):\n",
    "        G = G * gamma_ + r\n",
    "        returns[(s,a)] += G\n",
    "        returns_count[(s,a)] += 1\n",
    "    for s,a in pair: \n",
    "        q_value_[(s,a)] = returns[(s,a)]/returns_count[(s,a)]\n",
    "        if q_value_[(s,'a_LTFC')] > q_value_[(s,'a_R')]:\n",
    "            policy[s] = 'a_LTFC'\n",
    "        else:\n",
    "            policy[s] = 'a_R'\n",
    "    if n%100 == 0:\n",
    "        history.append(list(q_value_.values()))\n",
    "        \n",
    "        \n",
    "        \n",
    "\n",
    "    \n",
    "\n",
    "    \n",
    "    \n",
    "\n",
    "\n",
    "\n",
    "\n",
    "\n",
    "\n",
    "\n",
    "\n",
    "\n",
    "\n"
   ]
  },
  {
   "cell_type": "code",
   "execution_count": 193,
   "metadata": {},
   "outputs": [
    {
     "data": {
      "text/plain": [
       "[(('major', 13), 'a_R', 1)]"
      ]
     },
     "execution_count": 193,
     "metadata": {},
     "output_type": "execute_result"
    }
   ],
   "source": [
    "trajectory"
   ]
  },
  {
   "cell_type": "code",
   "execution_count": 109,
   "metadata": {},
   "outputs": [],
   "source": [
    "returns[(('major', 3), 'a_LTFC')].append(G)"
   ]
  },
  {
   "cell_type": "code",
   "execution_count": 166,
   "metadata": {},
   "outputs": [
    {
     "data": {
      "text/plain": [
       "[(('major', 13), 'a_R', 0),\n",
       " (('major', 14), 'a_LTFC', 0.1),\n",
       " (('major', 15), 'a_R', 1)]"
      ]
     },
     "execution_count": 166,
     "metadata": {},
     "output_type": "execute_result"
    }
   ],
   "source": [
    "\n",
    "trajectory = sample_trajectory(env,policy)\n",
    "trajectory\n"
   ]
  },
  {
   "cell_type": "code",
   "execution_count": 131,
   "metadata": {},
   "outputs": [],
   "source": [
    "policy = dict(zip(state_,[random.sample(action_,1)[0] for i in range(len(state_))]))"
   ]
  },
  {
   "cell_type": "code",
   "execution_count": 219,
   "metadata": {},
   "outputs": [
    {
     "data": {
      "text/plain": [
       "{('major', 3): 'a_LTFC',\n",
       " ('major', 4): 'a_LTFC',\n",
       " ('major', 5): 'a_LTFC',\n",
       " ('major', 6): 'a_LTFC',\n",
       " ('major', 7): 'a_LTFC',\n",
       " ('major', 8): 'a_LTFC',\n",
       " ('major', 9): 'a_LTFC',\n",
       " ('major', 10): 'a_LTFC',\n",
       " ('major', 11): 'a_LTFC',\n",
       " ('major', 12): 'a_LTFC',\n",
       " ('major', 13): 'a_LTFC',\n",
       " ('major', 14): 'a_R',\n",
       " ('major', 15): 'a_R',\n",
       " ('major', 16): 'a_R',\n",
       " ('major', 17): 'a_R',\n",
       " ('major', 18): 'a_R',\n",
       " ('minor', 3): 'a_LTFC',\n",
       " ('minor', 4): 'a_LTFC',\n",
       " ('minor', 5): 'a_LTFC',\n",
       " ('minor', 6): 'a_LTFC',\n",
       " ('minor', 7): 'a_LTFC',\n",
       " ('minor', 8): 'a_LTFC',\n",
       " ('minor', 9): 'a_LTFC',\n",
       " ('minor', 10): 'a_LTFC',\n",
       " ('minor', 11): 'a_LTFC',\n",
       " ('minor', 12): 'a_LTFC',\n",
       " ('minor', 13): 'a_R',\n",
       " ('minor', 14): 'a_R',\n",
       " ('minor', 15): 'a_R',\n",
       " ('minor', 16): 'a_R',\n",
       " ('minor', 17): 'a_R',\n",
       " ('minor', 18): 'a_R'}"
      ]
     },
     "execution_count": 219,
     "metadata": {},
     "output_type": "execute_result"
    }
   ],
   "source": [
    "policy"
   ]
  },
  {
   "cell_type": "code",
   "execution_count": 220,
   "metadata": {},
   "outputs": [
    {
     "data": {
      "image/png": "[encoded data removed]",
      "text/plain": [
       "<Figure size 432x288 with 1 Axes>"
      ]
     },
     "metadata": {
      "needs_background": "light"
     },
     "output_type": "display_data"
    }
   ],
   "source": [
    "history = np.array(history)\n",
    "for i in range(5):\n",
    "    plt.plot(history[:,i])"
   ]
  },
  {
   "cell_type": "code",
   "execution_count": 18,
   "metadata": {},
   "outputs": [
    {
     "ename": "NameError",
     "evalue": "name 'self' is not defined",
     "output_type": "error",
     "traceback": [
      "\u001b[0;31m---------------------------------------------------------------------------\u001b[0m",
      "\u001b[0;31mNameError\u001b[0m                                 Traceback (most recent call last)",
      "\u001b[0;32m<ipython-input-18-f9c22af8e357>\u001b[0m in \u001b[0;36m<module>\u001b[0;34m\u001b[0m\n\u001b[1;32m      5\u001b[0m \u001b[0mage\u001b[0m \u001b[0;34m=\u001b[0m \u001b[0;34m[\u001b[0m\u001b[0;36m3\u001b[0m\u001b[0;34m,\u001b[0m\u001b[0;36m4\u001b[0m\u001b[0;34m,\u001b[0m\u001b[0;36m5\u001b[0m\u001b[0;34m,\u001b[0m\u001b[0;36m6\u001b[0m\u001b[0;34m,\u001b[0m\u001b[0;36m7\u001b[0m\u001b[0;34m,\u001b[0m\u001b[0;36m8\u001b[0m\u001b[0;34m,\u001b[0m\u001b[0;36m9\u001b[0m\u001b[0;34m,\u001b[0m\u001b[0;36m10\u001b[0m\u001b[0;34m,\u001b[0m\u001b[0;36m11\u001b[0m\u001b[0;34m,\u001b[0m\u001b[0;36m12\u001b[0m\u001b[0;34m,\u001b[0m\u001b[0;36m13\u001b[0m\u001b[0;34m,\u001b[0m\u001b[0;36m14\u001b[0m\u001b[0;34m,\u001b[0m\u001b[0;36m15\u001b[0m\u001b[0;34m,\u001b[0m\u001b[0;36m16\u001b[0m\u001b[0;34m,\u001b[0m\u001b[0;36m17\u001b[0m\u001b[0;34m,\u001b[0m\u001b[0;36m18\u001b[0m\u001b[0;34m]\u001b[0m\u001b[0;34m\u001b[0m\u001b[0;34m\u001b[0m\u001b[0m\n\u001b[1;32m      6\u001b[0m \u001b[0mage_sample\u001b[0m \u001b[0;34m=\u001b[0m \u001b[0mnp\u001b[0m\u001b[0;34m.\u001b[0m\u001b[0mrandom\u001b[0m\u001b[0;34m.\u001b[0m\u001b[0mmultinomial\u001b[0m\u001b[0;34m(\u001b[0m\u001b[0;36m1\u001b[0m\u001b[0;34m,\u001b[0m\u001b[0mage_p\u001b[0m\u001b[0;34m,\u001b[0m\u001b[0;36m10000\u001b[0m\u001b[0;34m)\u001b[0m\u001b[0;34m\u001b[0m\u001b[0;34m\u001b[0m\u001b[0m\n\u001b[0;32m----> 7\u001b[0;31m \u001b[0mself\u001b[0m\u001b[0;34m.\u001b[0m\u001b[0mage\u001b[0m \u001b[0;34m=\u001b[0m \u001b[0mage\u001b[0m\u001b[0;34m[\u001b[0m\u001b[0mnp\u001b[0m\u001b[0;34m.\u001b[0m\u001b[0mwhere\u001b[0m\u001b[0;34m(\u001b[0m\u001b[0mage_sample\u001b[0m \u001b[0;34m==\u001b[0m \u001b[0;36m1\u001b[0m\u001b[0;34m)\u001b[0m\u001b[0;34m[\u001b[0m\u001b[0;36m1\u001b[0m\u001b[0;34m]\u001b[0m\u001b[0;34m[\u001b[0m\u001b[0;36m0\u001b[0m\u001b[0;34m]\u001b[0m\u001b[0;34m]\u001b[0m\u001b[0;34m\u001b[0m\u001b[0;34m\u001b[0m\u001b[0m\n\u001b[0m\u001b[1;32m      8\u001b[0m \u001b[0;31m## Sample race of the youth\u001b[0m\u001b[0;34m\u001b[0m\u001b[0;34m\u001b[0m\u001b[0;34m\u001b[0m\u001b[0m\n\u001b[1;32m      9\u001b[0m \u001b[0mself\u001b[0m\u001b[0;34m.\u001b[0m\u001b[0mrace\u001b[0m \u001b[0;34m=\u001b[0m \u001b[0;34m[\u001b[0m\u001b[0;34m'major'\u001b[0m\u001b[0;34m,\u001b[0m\u001b[0;34m'minor'\u001b[0m\u001b[0;34m]\u001b[0m\u001b[0;34m[\u001b[0m\u001b[0mnp\u001b[0m\u001b[0;34m.\u001b[0m\u001b[0mrandom\u001b[0m\u001b[0;34m.\u001b[0m\u001b[0mbinomial\u001b[0m\u001b[0;34m(\u001b[0m\u001b[0;36m1\u001b[0m\u001b[0;34m,\u001b[0m\u001b[0;36m0.3\u001b[0m\u001b[0;34m,\u001b[0m\u001b[0;36m1\u001b[0m\u001b[0;34m)\u001b[0m\u001b[0;34m[\u001b[0m\u001b[0;36m0\u001b[0m\u001b[0;34m]\u001b[0m\u001b[0;34m]\u001b[0m\u001b[0;34m\u001b[0m\u001b[0;34m\u001b[0m\u001b[0m\n",
      "\u001b[0;31mNameError\u001b[0m: name 'self' is not defined"
     ]
    }
   ],
   "source": [
    "## Sample a test population to check if policy improves over all reward and \n",
    "number = 10000\n",
    "\n",
    "age_p = [0.05699999999999994,0.08,0.08,0.08,0.07,0.06,0.06,0.05,0.05,0.06,0.07,0.08,0.09,0.08,0.03,0.003]\n",
    "age = [3,4,5,6,7,8,9,10,11,12,13,14,15,16,17,18]\n",
    "age_sample = np.random.multinomial(1,age_p,10000)\n",
    "self.age = age[np.where(age_sample == 1)[1][0]]\n",
    "## Sample race of the youth\n",
    "self.race = ['major','minor'][np.random.binomial(1,0.3,1)[0]]"
   ]
  },
  {
   "cell_type": "code",
   "execution_count": null,
   "metadata": {},
   "outputs": [],
   "source": [
    "trajectory"
   ]
  },
  {
   "cell_type": "code",
   "execution_count": null,
   "metadata": {},
   "outputs": [],
   "source": [
    "a = sample_trajectory(env,policy)"
   ]
  },
  {
   "cell_type": "code",
   "execution_count": null,
   "metadata": {},
   "outputs": [],
   "source": [
    "a.reverse()\n"
   ]
  },
  {
   "cell_type": "code",
   "execution_count": null,
   "metadata": {},
   "outputs": [],
   "source": [
    "0.81 * 0.9 + 0.1"
   ]
  },
  {
   "cell_type": "code",
   "execution_count": 99,
   "metadata": {},
   "outputs": [],
   "source": [
    "import random"
   ]
  },
  {
   "cell_type": "code",
   "execution_count": 100,
   "metadata": {},
   "outputs": [
    {
     "data": {
      "text/plain": [
       "['a_R']"
      ]
     },
     "execution_count": 100,
     "metadata": {},
     "output_type": "execute_result"
    }
   ],
   "source": [
    "random.sample(action_,1)"
   ]
  },
  {
   "cell_type": "code",
   "execution_count": null,
   "metadata": {},
   "outputs": [],
   "source": []
  }
 ],
 "metadata": {
  "kernelspec": {
   "display_name": "Python [conda env:miniconda3-pytorch36]",
   "language": "python",
   "name": "conda-env-miniconda3-pytorch36-py"
  },
  "language_info": {
   "codemirror_mode": {
    "name": "ipython",
    "version": 3
   },
   "file_extension": ".py",
   "mimetype": "text/x-python",
   "name": "python",
   "nbconvert_exporter": "python",
   "pygments_lexer": "ipython3",
   "version": "3.6.8"
  }
 },
 "nbformat": 4,
 "nbformat_minor": 4
}
